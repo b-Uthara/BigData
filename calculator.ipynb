{
 "cells": [
  {
   "cell_type": "code",
   "execution_count": null,
   "id": "3e03c00a-19a3-4f8a-8c11-dc72f35fbc61",
   "metadata": {},
   "outputs": [
    {
     "name": "stdin",
     "output_type": "stream",
     "text": [
      "Enter number1:  2\n",
      "Enter number2:  2\n",
      "Enter operation (+,-,*,%):  +\n"
     ]
    },
    {
     "name": "stdout",
     "output_type": "stream",
     "text": [
      "Result: 4.0\n"
     ]
    }
   ],
   "source": [
    "def add(a,b):\n",
    "    return a+b\n",
    "def sub(a,b):\n",
    "    return a-b\n",
    "def multiply(a,b):\n",
    "    return a*b\n",
    "def div(a,b):\n",
    "    return a/b\n",
    "while True:\n",
    "    num1 = float(input(\"Enter number1: \"))\n",
    "    num2 = float(input(\"Enter number2: \"))\n",
    "    op = input(\"Enter operation (+,-,*,%): \")\n",
    "\n",
    "    if op =='+':\n",
    "        print(\"Result:\",add(num1,num2))\n",
    "    elif op == '-':\n",
    "        print(\"Result: \",sub(num1,num2))\n",
    "    elif op == '*':\n",
    "        print(\"Result: \",multiply(num1,num2))\n",
    "    elif op == '/':\n",
    "        print(\"Result:\",div(num1,num2))\n",
    "    else:\n",
    "        print(\"Invalid operation\")\n",
    "    \n",
    "    \n",
    "\n",
    "\n"
   ]
  },
  {
   "cell_type": "code",
   "execution_count": null,
   "id": "47b8add7-1cf8-443f-880c-737596baa681",
   "metadata": {},
   "outputs": [],
   "source": []
  }
 ],
 "metadata": {
  "kernelspec": {
   "display_name": "Python 3 (ipykernel)",
   "language": "python",
   "name": "python3"
  },
  "language_info": {
   "codemirror_mode": {
    "name": "ipython",
    "version": 3
   },
   "file_extension": ".py",
   "mimetype": "text/x-python",
   "name": "python",
   "nbconvert_exporter": "python",
   "pygments_lexer": "ipython3",
   "version": "3.11.0"
  }
 },
 "nbformat": 4,
 "nbformat_minor": 5
}
