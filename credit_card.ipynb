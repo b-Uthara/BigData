{
 "cells": [
  {
   "cell_type": "code",
   "execution_count": 2,
   "id": "83985cbf-8131-4e13-924c-22ffd6acea4d",
   "metadata": {},
   "outputs": [],
   "source": [
    "import pandas as pd\n",
    "\n",
    "df = pd.read_csv(\"final_data.csv\")"
   ]
  },
  {
   "cell_type": "code",
   "execution_count": 6,
   "id": "5a3b8d90-3b1e-477e-861a-c6e6868ac21e",
   "metadata": {},
   "outputs": [
    {
     "name": "stdout",
     "output_type": "stream",
     "text": [
      "city\n",
      "Achille    13\n",
      "Acworth    13\n",
      "Adams      12\n",
      "Afton      16\n",
      "Akron       9\n",
      "dtype: int64\n"
     ]
    }
   ],
   "source": [
    "df1 = df[df['is_fraud'] == 1].groupby('city').size().head(5)\n",
    "print(df1)\n",
    "      "
   ]
  },
  {
   "cell_type": "code",
   "execution_count": 6,
   "id": "50ca61f6-cfae-45cd-82b2-146bfc43c953",
   "metadata": {},
   "outputs": [
    {
     "name": "stdout",
     "output_type": "stream",
     "text": [
      "category\n",
      "entertainment      292\n",
      "food_dining        205\n",
      "gas_transport      772\n",
      "grocery_net        175\n",
      "grocery_pos       2228\n",
      "health_fitness     185\n",
      "home               265\n",
      "kids_pets          304\n",
      "misc_net          1182\n",
      "misc_pos           322\n",
      "personal_care      290\n",
      "shopping_net      2219\n",
      "shopping_pos      1056\n",
      "travel             156\n",
      "dtype: int64\n"
     ]
    }
   ],
   "source": [
    "df1 = df[df['is_fraud'] == 1].groupby('category').size()\n",
    "print(df1)\n",
    "      "
   ]
  },
  {
   "cell_type": "code",
   "execution_count": 8,
   "id": "1c578961-e126-4567-9c11-ede93be639e6",
   "metadata": {},
   "outputs": [
    {
     "name": "stdout",
     "output_type": "stream",
     "text": [
      "merchant\n",
      "fraud_Abbott-Rogahn                       4\n",
      "fraud_Abbott-Steuber                      8\n",
      "fraud_Abernathy and Sons                  4\n",
      "fraud_Abshire PLC                         9\n",
      "fraud_Adams, Kovacek and Kuhlman          5\n",
      "fraud_Adams-Barrows                       4\n",
      "fraud_Altenwerth, Cartwright and Koss    40\n",
      "fraud_Altenwerth-Kilback                  8\n",
      "fraud_Ankunding LLC                      35\n",
      "fraud_Ankunding-Carroll                   5\n",
      "dtype: int64\n"
     ]
    }
   ],
   "source": [
    "df1 = df[df['is_fraud'] == 1].groupby('merchant').size().head(10)\n",
    "print(df1)\n",
    "      "
   ]
  },
  {
   "cell_type": "code",
   "execution_count": 10,
   "id": "257cff99-6982-473a-93ed-e6373e91b02c",
   "metadata": {},
   "outputs": [
    {
     "name": "stdout",
     "output_type": "stream",
     "text": [
      "gender\n",
      "F    271.712988\n",
      "M    330.507216\n",
      "Name: amt, dtype: float64\n"
     ]
    }
   ],
   "source": [
    "df1 = df.groupby('gender')['amt'].mean()\n",
    "print(df1)"
   ]
  },
  {
   "cell_type": "code",
   "execution_count": 12,
   "id": "8467db9c-c1dc-4a47-b260-63129d825e45",
   "metadata": {},
   "outputs": [
    {
     "name": "stdout",
     "output_type": "stream",
     "text": [
      "merchant\n",
      "fraud_Abbott-Rogahn                 163.065000\n",
      "fraud_Abbott-Steuber                 31.228500\n",
      "fraud_Abernathy and Sons             76.960556\n",
      "fraud_Abshire PLC                   262.755789\n",
      "fraud_Adams, Kovacek and Kuhlman     35.533077\n",
      "Name: amt, dtype: float64\n"
     ]
    }
   ],
   "source": [
    "df1 = df.groupby('merchant')['amt'].mean()\n",
    "df2 = df1.head(5)\n",
    "print(df2)"
   ]
  },
  {
   "cell_type": "code",
   "execution_count": 10,
   "id": "ff10d784-6c4d-41fc-a376-a0d4e40c6a42",
   "metadata": {},
   "outputs": [
    {
     "name": "stdout",
     "output_type": "stream",
     "text": [
      "<pandas.core.groupby.generic.SeriesGroupBy object at 0x000002AE922A93D0>\n"
     ]
    }
   ],
   "source": [
    "df1 = df.groupby('dob')['merchant']\n",
    "print(df1)"
   ]
  },
  {
   "cell_type": "code",
   "execution_count": null,
   "id": "7602ef2b-7131-4b73-8b2b-4c0c483cb0ae",
   "metadata": {},
   "outputs": [],
   "source": []
  }
 ],
 "metadata": {
  "kernelspec": {
   "display_name": "Python 3 (ipykernel)",
   "language": "python",
   "name": "python3"
  },
  "language_info": {
   "codemirror_mode": {
    "name": "ipython",
    "version": 3
   },
   "file_extension": ".py",
   "mimetype": "text/x-python",
   "name": "python",
   "nbconvert_exporter": "python",
   "pygments_lexer": "ipython3",
   "version": "3.11.0"
  }
 },
 "nbformat": 4,
 "nbformat_minor": 5
}
