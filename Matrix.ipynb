{
 "cells": [
  {
   "cell_type": "code",
   "execution_count": 1,
   "id": "d1679cef-c673-41e9-a990-92d13fb88277",
   "metadata": {},
   "outputs": [
    {
     "name": "stdout",
     "output_type": "stream",
     "text": [
      "[1, 2, 3]\n",
      "[4, 5, 6]\n",
      "[7, 8, 9]\n"
     ]
    }
   ],
   "source": [
    "matrix =[[row*3+column+1 for column in range(3)] for row in range(3)]\n",
    "for row in matrix:\n",
    "    print(row)"
   ]
  },
  {
   "cell_type": "code",
   "execution_count": 2,
   "id": "2d4822bf-d197-4024-a230-cf5580692cd7",
   "metadata": {},
   "outputs": [
    {
     "name": "stdout",
     "output_type": "stream",
     "text": [
      "[1, 2, 4]\n"
     ]
    }
   ],
   "source": [
    "lst =[1,2,3,4]\n",
    "lst.pop(2)\n",
    "print(lst)"
   ]
  },
  {
   "cell_type": "code",
   "execution_count": 5,
   "id": "37d89605-527e-4590-a4e0-7c8bdf3e5b9c",
   "metadata": {},
   "outputs": [
    {
     "name": "stdout",
     "output_type": "stream",
     "text": [
      "[1, 3, 2, 4]\n"
     ]
    }
   ],
   "source": [
    "lst =[1,2,3,4]\n",
    "a=lst.pop(1)\n",
    "lst.insert(2,a)\n",
    "print(lst)`111111"
   ]
  },
  {
   "cell_type": "code",
   "execution_count": 10,
   "id": "901b1488-63e9-48f1-807d-807691616803",
   "metadata": {},
   "outputs": [
    {
     "name": "stdout",
     "output_type": "stream",
     "text": [
      "['a', 'v', 'e']\n"
     ]
    }
   ],
   "source": [
    "l = ['a','v','e','r']\n",
    "l.remove('r')\n",
    "print(l)"
   ]
  },
  {
   "cell_type": "code",
   "execution_count": 12,
   "id": "d52c3cdc-48f6-42cb-8730-123348498165",
   "metadata": {},
   "outputs": [
    {
     "name": "stdout",
     "output_type": "stream",
     "text": [
      "['a', 'v', 'e', 'r']\n"
     ]
    }
   ],
   "source": [
    "l = ['a','v','e','r',9]\n",
    "l.remove(9)\n",
    "print(l)"
   ]
  },
  {
   "cell_type": "code",
   "execution_count": 13,
   "id": "3a3db5e9-4342-4d45-8697-212abe42982e",
   "metadata": {},
   "outputs": [
    {
     "name": "stdout",
     "output_type": "stream",
     "text": [
      "[1, 4, 7]\n",
      "[2, 5, 8]\n",
      "[3, 6, 9]\n",
      "[4, 7, 10]\n"
     ]
    }
   ],
   "source": [
    "matrix =[[column*3+row+1 for column in range(3)] for row in range(4)]\n",
    "for row in matrix:\n",
    "    print(row)"
   ]
  },
  {
   "cell_type": "code",
   "execution_count": 16,
   "id": "6a413972-cfb9-445c-aaa2-84d4659de83a",
   "metadata": {},
   "outputs": [
    {
     "name": "stdout",
     "output_type": "stream",
     "text": [
      "1 4 7\n",
      "2 5 8\n",
      "3 6 9\n",
      "4 7 10\n"
     ]
    }
   ],
   "source": [
    "matrix =[[column*3+row+1 for column in range(3)] for row in range(4)]\n",
    "for row in matrix:\n",
    "    print(' '.join(map(str,row)))"
   ]
  },
  {
   "cell_type": "code",
   "execution_count": null,
   "id": "a8159e79-04a7-43dc-be4d-2524e17b55ab",
   "metadata": {},
   "outputs": [],
   "source": []
  }
 ],
 "metadata": {
  "kernelspec": {
   "display_name": "Python 3 (ipykernel)",
   "language": "python",
   "name": "python3"
  },
  "language_info": {
   "codemirror_mode": {
    "name": "ipython",
    "version": 3
   },
   "file_extension": ".py",
   "mimetype": "text/x-python",
   "name": "python",
   "nbconvert_exporter": "python",
   "pygments_lexer": "ipython3",
   "version": "3.11.0"
  }
 },
 "nbformat": 4,
 "nbformat_minor": 5
}
